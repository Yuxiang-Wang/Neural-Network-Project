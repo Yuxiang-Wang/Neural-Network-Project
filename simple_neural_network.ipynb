{
 "cells": [
  {
   "cell_type": "code",
   "execution_count": 1,
   "metadata": {},
   "outputs": [],
   "source": [
    "import numpy as np"
   ]
  },
  {
   "cell_type": "markdown",
   "metadata": {},
   "source": [
    "### sample"
   ]
  },
  {
   "cell_type": "markdown",
   "metadata": {},
   "source": [
    "3 layers, number of units: 3, 3, 1"
   ]
  },
  {
   "cell_type": "code",
   "execution_count": 2,
   "metadata": {},
   "outputs": [],
   "source": [
    "L = 3\n",
    "S = np.array([3,3,1])\n",
    "K = 1"
   ]
  },
  {
   "cell_type": "code",
   "execution_count": 3,
   "metadata": {},
   "outputs": [],
   "source": [
    "def h(x):\n",
    "    return 1/(1+np.exp(-x))\n",
    "def J(hx,y):\n",
    "    return -(y*np.log(hx)+(1-y)*np.log(1-hx))\n",
    "    "
   ]
  },
  {
   "cell_type": "code",
   "execution_count": 4,
   "metadata": {},
   "outputs": [
    {
     "data": {
      "text/plain": [
       "(array([[ 1.3315865 ,  0.71527897, -1.54540029],\n",
       "        [-0.00838385,  0.62133597, -0.72008556],\n",
       "        [ 0.26551159,  0.10854853,  0.00429143],\n",
       "        [-0.17460021,  0.43302619,  1.20303737],\n",
       "        [-0.96506567,  1.02827408,  0.22863013],\n",
       "        [ 0.44513761, -1.13660221,  0.13513688],\n",
       "        [ 1.484537  , -1.07980489, -1.97772828],\n",
       "        [-1.7433723 ,  0.26607016,  2.38496733],\n",
       "        [ 1.12369125,  1.67262221,  0.09914922],\n",
       "        [ 1.39799638, -0.27124799,  0.61320418]]),\n",
       " array([1, 1, 1, 0, 0, 1, 1, 0, 1, 1]))"
      ]
     },
     "execution_count": 4,
     "metadata": {},
     "output_type": "execute_result"
    }
   ],
   "source": [
    "np.random.seed(10)\n",
    "inp = np.random.randn(30).reshape(10,3)\n",
    "np.random.seed(20)\n",
    "outp = (np.random.randn(10)>0).astype(int)\n",
    "inp,outp"
   ]
  },
  {
   "cell_type": "code",
   "execution_count": 5,
   "metadata": {},
   "outputs": [
    {
     "data": {
      "text/plain": [
       "(array([ 1.3315865 ,  0.71527897, -1.54540029]), 1)"
      ]
     },
     "execution_count": 5,
     "metadata": {},
     "output_type": "execute_result"
    }
   ],
   "source": [
    "x = inp[0]\n",
    "y = outp[0]\n",
    "x,y"
   ]
  },
  {
   "cell_type": "code",
   "execution_count": 6,
   "metadata": {},
   "outputs": [],
   "source": [
    "def add_bias(arr):\n",
    "    return np.hstack([[0.1],arr])"
   ]
  },
  {
   "cell_type": "code",
   "execution_count": 7,
   "metadata": {},
   "outputs": [],
   "source": [
    "# a2 = h(np.dot(theta1,np.hstack([[1],a1])))\n",
    "# a3 = h(np.dot(theta2,np.hstack([[1],a2]))); a3"
   ]
  },
  {
   "cell_type": "code",
   "execution_count": 8,
   "metadata": {},
   "outputs": [
    {
     "data": {
      "text/plain": [
       "array([3, 3, 1])"
      ]
     },
     "execution_count": 8,
     "metadata": {},
     "output_type": "execute_result"
    }
   ],
   "source": [
    "S"
   ]
  },
  {
   "cell_type": "code",
   "execution_count": 9,
   "metadata": {},
   "outputs": [
    {
     "data": {
      "text/plain": [
       "[array([[0.5488135 , 0.71518937, 0.60276338, 0.54488318],\n",
       "        [0.4236548 , 0.64589411, 0.43758721, 0.891773  ],\n",
       "        [0.96366276, 0.38344152, 0.79172504, 0.52889492]]),\n",
       " array([[4.17022005e-01, 7.20324493e-01, 1.14374817e-04, 3.02332573e-01]])]"
      ]
     },
     "execution_count": 9,
     "metadata": {},
     "output_type": "execute_result"
    }
   ],
   "source": [
    "theta=[]\n",
    "for i in range(L-1):\n",
    "    np.random.seed(i)\n",
    "    theta_temp = np.random.rand(S[i+1],S[i]+1) # plus 1 for bias\n",
    "    theta.append(theta_temp)\n",
    "theta"
   ]
  },
  {
   "cell_type": "code",
   "execution_count": 10,
   "metadata": {},
   "outputs": [
    {
     "data": {
      "text/plain": [
       "(None, [array([ 0.1       ,  1.3315865 ,  0.71527897, -1.54540029])])"
      ]
     },
     "execution_count": 10,
     "metadata": {},
     "output_type": "execute_result"
    }
   ],
   "source": [
    "a = []\n",
    "a.append(add_bias(x)),a"
   ]
  },
  {
   "cell_type": "code",
   "execution_count": 11,
   "metadata": {},
   "outputs": [
    {
     "data": {
      "text/plain": [
       "[array([ 0.1       ,  1.3315865 ,  0.71527897, -1.54540029]),\n",
       " array([0.1       , 0.64480917, 0.45940953, 0.588048  ]),\n",
       " array([0.66463369])]"
      ]
     },
     "execution_count": 11,
     "metadata": {},
     "output_type": "execute_result"
    }
   ],
   "source": [
    "a = []\n",
    "a.append(add_bias(x))\n",
    "for i in range(L-1):\n",
    "    a_temp = h(np.dot(theta[i],a[i]))\n",
    "    if i==L-2:\n",
    "        a.append(a_temp)\n",
    "    else:\n",
    "        a.append(add_bias(a_temp))\n",
    "a"
   ]
  },
  {
   "cell_type": "code",
   "execution_count": 12,
   "metadata": {},
   "outputs": [
    {
     "data": {
      "text/plain": [
       "[array([-1.25869618e-02, -5.53274391e-02, -9.52616792e-06, -2.45620022e-02]),\n",
       " array([-0.33536631])]"
      ]
     },
     "execution_count": 12,
     "metadata": {},
     "output_type": "execute_result"
    }
   ],
   "source": [
    "delta = []\n",
    "delta.append(a[-1]-y)\n",
    "for i in range(L-2):\n",
    "    delta.append(theta[-1-i].T.dot(delta[-1])*a[-2-i]*(1-a[-2-i]))\n",
    "delta.reverse()\n",
    "delta"
   ]
  },
  {
   "cell_type": "code",
   "execution_count": 13,
   "metadata": {},
   "outputs": [
    {
     "data": {
      "text/plain": [
       "array([0.09      , 0.22903031, 0.24835241, 0.24224755])"
      ]
     },
     "execution_count": 13,
     "metadata": {},
     "output_type": "execute_result"
    }
   ],
   "source": [
    "a[-2-i]*(1-a[-2-i])"
   ]
  },
  {
   "cell_type": "code",
   "execution_count": 14,
   "metadata": {},
   "outputs": [
    {
     "data": {
      "text/plain": [
       "[array([[-5.53274391e-03, -7.36732712e-02, -3.95745539e-02,\n",
       "          8.55030405e-02],\n",
       "        [-9.52616792e-07, -1.26849166e-05, -6.81386762e-06,\n",
       "          1.47217427e-05],\n",
       "        [-2.45620022e-03, -3.27064307e-02, -1.75686838e-02,\n",
       "          3.79581254e-02]]),\n",
       " array([[-0.03353663, -0.21624727, -0.15407048, -0.19721149]])]"
      ]
     },
     "execution_count": 14,
     "metadata": {},
     "output_type": "execute_result"
    }
   ],
   "source": [
    "D=[]\n",
    "for i in range(L-1):\n",
    "    if i==0:\n",
    "        D.append(np.matmul(delta[-1-i].reshape(len(delta[-1-i]),1), a[-2-i].reshape(1,len(a[-2-i]))))\n",
    "    else:\n",
    "        D.append(np.matmul(delta[-1-i].reshape(len(delta[-1-i]),1)[1:], a[-2-i].reshape(1,len(a[-2-i]))))\n",
    "D.reverse()\n",
    "D"
   ]
  },
  {
   "cell_type": "markdown",
   "metadata": {},
   "source": [
    "#### gradient check"
   ]
  },
  {
   "cell_type": "markdown",
   "metadata": {},
   "source": [
    "calculate derivative directly and compare with D,\n",
    "check whether the derivative result is right."
   ]
  },
  {
   "cell_type": "code",
   "execution_count": 15,
   "metadata": {},
   "outputs": [
    {
     "data": {
      "text/plain": [
       "[array([[0.5488135 , 0.71518937, 0.60276338, 0.54488318],\n",
       "        [0.4236548 , 0.64589411, 0.43758721, 0.891773  ],\n",
       "        [0.96366276, 0.38344152, 0.79172504, 0.52889492]]),\n",
       " array([[4.17022005e-01, 7.20324493e-01, 1.14374817e-04, 3.02332573e-01]])]"
      ]
     },
     "execution_count": 15,
     "metadata": {},
     "output_type": "execute_result"
    }
   ],
   "source": [
    "theta"
   ]
  },
  {
   "cell_type": "code",
   "execution_count": 16,
   "metadata": {},
   "outputs": [
    {
     "data": {
      "text/plain": [
       "array([ 0.1       ,  1.3315865 ,  0.71527897, -1.54540029])"
      ]
     },
     "execution_count": 16,
     "metadata": {},
     "output_type": "execute_result"
    }
   ],
   "source": [
    "a1=a[0]; a1"
   ]
  },
  {
   "cell_type": "code",
   "execution_count": 17,
   "metadata": {},
   "outputs": [],
   "source": [
    "def temp(theta_plus,theta_minus):\n",
    "    a2_plus = h(np.dot(theta_plus,a1))\n",
    "    a3_plus = h(np.dot(theta_minus,add_bias(a2_plus)))\n",
    "    return a3_plus"
   ]
  },
  {
   "cell_type": "code",
   "execution_count": 18,
   "metadata": {},
   "outputs": [],
   "source": [
    "theta_temp = np.vstack([theta[0],theta[1]]).flatten()\n",
    "l=[]\n",
    "for i in range(16):\n",
    "    theta_plus = theta_temp.copy()\n",
    "    theta_plus[i] += 0.001\n",
    "    theta_minus = theta_temp.copy()\n",
    "    theta_minus[i] -= 0.001\n",
    "    theta_plus = theta_plus.reshape(4,4)\n",
    "    theta_minus = theta_minus.reshape(4,4)\n",
    "    a3_plus = temp(theta_plus[:3],theta_plus[-1])\n",
    "    a3_minus = temp(theta_minus[:3],theta_minus[-1])\n",
    "    l.append((J(a3_plus,y)-J(a3_minus,y))/0.002)"
   ]
  },
  {
   "cell_type": "code",
   "execution_count": 19,
   "metadata": {},
   "outputs": [
    {
     "data": {
      "text/plain": [
       "array([[-5.53274391e-03, -7.36732653e-02, -3.95745530e-02,\n",
       "         8.55030313e-02],\n",
       "       [-9.52616874e-07, -1.26849149e-05, -6.81386736e-06,\n",
       "         1.47217398e-05],\n",
       "       [-2.45620022e-03, -3.27064266e-02, -1.75686831e-02,\n",
       "         3.79581190e-02],\n",
       "       [-3.35366311e-02, -2.16247274e-01, -1.54070481e-01,\n",
       "        -1.97211491e-01]])"
      ]
     },
     "execution_count": 19,
     "metadata": {},
     "output_type": "execute_result"
    }
   ],
   "source": [
    "np.array(l).reshape(4,4)"
   ]
  },
  {
   "cell_type": "code",
   "execution_count": null,
   "metadata": {},
   "outputs": [],
   "source": []
  },
  {
   "cell_type": "markdown",
   "metadata": {},
   "source": [
    "### NW"
   ]
  },
  {
   "cell_type": "code",
   "execution_count": 20,
   "metadata": {},
   "outputs": [],
   "source": [
    "L = 3\n",
    "S = np.array([3,3,1])\n",
    "K = 1"
   ]
  },
  {
   "cell_type": "code",
   "execution_count": 21,
   "metadata": {},
   "outputs": [],
   "source": [
    "def h(x):\n",
    "    '''sigmoid function'''\n",
    "    return 1/(1+np.exp(-x))\n",
    "def add_bias(arr):\n",
    "    '''add constant bias, for each layer except the outcome layer'''\n",
    "    return np.hstack([[0.1],arr])\n",
    "\n",
    "def forward(x,theta):\n",
    "    '''forward propagation to calculate values of each layer.\n",
    "    the last element in a is the outcome layer'''\n",
    "    a = []\n",
    "    a.append(add_bias(x))\n",
    "    for i in range(L-1):\n",
    "        a_temp = h(np.dot(theta[i],a[i]))\n",
    "        if i==L-2:\n",
    "            a.append(a_temp)\n",
    "        else:\n",
    "            a.append(add_bias(a_temp))\n",
    "    return a\n",
    "\n",
    "def backward(a,y):\n",
    "    '''backward propagation to calculate derivative of cost funtion. \n",
    "    derivative is for gradient descent to optimize model wights, i.e. theta'''\n",
    "    delta = []\n",
    "    delta.append(a[-1]-y)\n",
    "    for i in range(L-2):\n",
    "        delta.append(theta[-1-i].T.dot(delta[-1])*a[-2-i]*(1-a[-2-i]))\n",
    "    delta.reverse()\n",
    "    '''delta is a temp value for calculating derivative'''\n",
    "    \n",
    "    D=[]\n",
    "    for i in range(L-1):\n",
    "        if i==0:\n",
    "            D.append(np.matmul(delta[-1-i].reshape(len(delta[-1-i]),1), a[-2-i].reshape(1,len(a[-2-i]))))\n",
    "        else:\n",
    "            D.append(np.matmul(delta[-1-i].reshape(len(delta[-1-i]),1)[1:], a[-2-i].reshape(1,len(a[-2-i]))))\n",
    "    D.reverse()\n",
    "    return D\n",
    "\n",
    "def update(D):\n",
    "    '''gradient descent to update theta.\n",
    "    currently constant learning rate'''\n",
    "    global theta\n",
    "    for i in range(len(D)):\n",
    "        theta[i]-=0.01*D[i] # 0.01 is the learning rate\n",
    "    "
   ]
  },
  {
   "cell_type": "markdown",
   "metadata": {},
   "source": [
    "in sample training"
   ]
  },
  {
   "cell_type": "code",
   "execution_count": 22,
   "metadata": {},
   "outputs": [
    {
     "data": {
      "text/plain": [
       "(array([[0, 0, 1],\n",
       "        [0, 1, 0],\n",
       "        [1, 0, 1],\n",
       "        [0, 0, 0],\n",
       "        [1, 0, 0],\n",
       "        [0, 1, 1],\n",
       "        [0, 1, 1],\n",
       "        [1, 1, 0],\n",
       "        [0, 0, 0],\n",
       "        [1, 0, 0]]), array([1, 1, 0, 1, 1, 0, 0, 0, 1, 1]))"
      ]
     },
     "execution_count": 22,
     "metadata": {},
     "output_type": "execute_result"
    }
   ],
   "source": [
    "'''in sample input and out put'''\n",
    "# np.random.seed(10)\n",
    "# inp = np.random.randn(30).reshape(10,3)\n",
    "# np.random.seed(20)\n",
    "# outp = (np.random.randn(10)>0).astype(int)\n",
    "\n",
    "inp = (np.random.randn(30).reshape(10,3)>0).astype(int)\n",
    "outp = (inp.sum(axis=1)<2).astype(int)\n",
    "inp,outp"
   ]
  },
  {
   "cell_type": "code",
   "execution_count": 23,
   "metadata": {},
   "outputs": [
    {
     "data": {
      "text/plain": [
       "[array([[0.5488135 , 0.71518937, 0.60276338, 0.54488318],\n",
       "        [0.4236548 , 0.64589411, 0.43758721, 0.891773  ],\n",
       "        [0.96366276, 0.38344152, 0.79172504, 0.52889492]]),\n",
       " array([[4.17022005e-01, 7.20324493e-01, 1.14374817e-04, 3.02332573e-01]])]"
      ]
     },
     "execution_count": 23,
     "metadata": {},
     "output_type": "execute_result"
    }
   ],
   "source": [
    "'''randomly initalize theta'''\n",
    "theta=[]\n",
    "for i in range(L-1):\n",
    "    np.random.seed(i)\n",
    "    theta_temp = np.random.rand(S[i+1],S[i]+1) # plus 1 for bias\n",
    "    theta.append(theta_temp)\n",
    "theta"
   ]
  },
  {
   "cell_type": "code",
   "execution_count": 24,
   "metadata": {},
   "outputs": [],
   "source": [
    "ite = 0\n",
    "MAX_ITER = 150000\n",
    "while(ite<MAX_ITER):\n",
    "    '''calculate derivative of cost funtion'''\n",
    "    D_all = list(map(lambda x:0*x,theta))\n",
    "    for i in range(len(inp)):\n",
    "        x = inp[i]\n",
    "        y = outp[i]\n",
    "        a = forward(x,theta)\n",
    "        D = backward(a,y)\n",
    "        for i in range(len(D_all)):\n",
    "            D_all[i]+=D[i]\n",
    "\n",
    "    '''break out when all the derivatives are smaller than 0.001'''\n",
    "    max_temp = max(list(map(np.max,map(abs,D_all))))\n",
    "    if max_temp<0.001:\n",
    "        break\n",
    "    \n",
    "    update(D_all)\n",
    "    ite+=1"
   ]
  },
  {
   "cell_type": "code",
   "execution_count": 25,
   "metadata": {},
   "outputs": [
    {
     "data": {
      "text/plain": [
       "150000"
      ]
     },
     "execution_count": 25,
     "metadata": {},
     "output_type": "execute_result"
    }
   ],
   "source": [
    "ite"
   ]
  },
  {
   "cell_type": "code",
   "execution_count": 26,
   "metadata": {},
   "outputs": [
    {
     "data": {
      "text/plain": [
       "[array([[19.13891648, -1.83265585, -1.83717947, -1.69682637],\n",
       "        [-3.61670823,  0.84968725,  0.61882123,  2.26034658],\n",
       "        [-0.94224619,  0.75686188,  1.99613652,  0.50316279]]),\n",
       " array([[ 2.05108863, 29.39669353, -8.03237147, -5.23064689]])]"
      ]
     },
     "execution_count": 26,
     "metadata": {},
     "output_type": "execute_result"
    }
   ],
   "source": [
    "# final theta\n",
    "theta"
   ]
  },
  {
   "cell_type": "code",
   "execution_count": 27,
   "metadata": {},
   "outputs": [
    {
     "data": {
      "text/plain": [
       "[array([[-6.22352256e-04, -6.22352256e-03,  0.00000000e+00,\n",
       "          0.00000000e+00],\n",
       "        [ 1.60580374e-04,  1.60580374e-03,  0.00000000e+00,\n",
       "          0.00000000e+00],\n",
       "        [ 9.95825897e-05,  9.95825897e-04,  0.00000000e+00,\n",
       "          0.00000000e+00]]),\n",
       " array([[-8.48231425e-05, -4.41332778e-04, -5.25597361e-04,\n",
       "         -5.59707672e-04]])]"
      ]
     },
     "execution_count": 27,
     "metadata": {},
     "output_type": "execute_result"
    }
   ],
   "source": [
    "# final derivative\n",
    "D"
   ]
  },
  {
   "cell_type": "code",
   "execution_count": 28,
   "metadata": {},
   "outputs": [],
   "source": [
    "fit = np.zeros(len(inp))\n",
    "for i in range(len(inp)):\n",
    "    x = inp[i]\n",
    "    a = forward(x,theta)\n",
    "    fit[i]=a[-1]"
   ]
  },
  {
   "cell_type": "code",
   "execution_count": 29,
   "metadata": {},
   "outputs": [
    {
     "data": {
      "text/plain": [
       "array([1, 1, 0, 1, 1, 0, 0, 0, 1, 1])"
      ]
     },
     "execution_count": 29,
     "metadata": {},
     "output_type": "execute_result"
    }
   ],
   "source": [
    "(fit>0.5).astype(int)"
   ]
  },
  {
   "cell_type": "code",
   "execution_count": 30,
   "metadata": {},
   "outputs": [
    {
     "data": {
      "text/plain": [
       "array([1, 1, 0, 1, 1, 0, 0, 0, 1, 1])"
      ]
     },
     "execution_count": 30,
     "metadata": {},
     "output_type": "execute_result"
    }
   ],
   "source": [
    "outp"
   ]
  },
  {
   "cell_type": "markdown",
   "metadata": {},
   "source": [
    "out of sample"
   ]
  },
  {
   "cell_type": "code",
   "execution_count": 44,
   "metadata": {},
   "outputs": [],
   "source": [
    "inp_out_sample = (np.random.randn(30).reshape(10,3)>0).astype(int)\n",
    "outp_out_sample = (inp_out_sample.sum(axis=1)<2).astype(int)\n",
    "fit_pred = np.zeros(len(inp))\n",
    "for i in range(len(inp)):\n",
    "    x = inp_out_sample[i]\n",
    "    a = forward(x,theta)\n",
    "    fit_pred[i]=a[-1]"
   ]
  },
  {
   "cell_type": "code",
   "execution_count": 45,
   "metadata": {},
   "outputs": [
    {
     "data": {
      "text/plain": [
       "array([0, 0, 1, 1, 0, 0, 1, 0, 0, 1])"
      ]
     },
     "execution_count": 45,
     "metadata": {},
     "output_type": "execute_result"
    }
   ],
   "source": [
    "(fit_pred>0.5).astype(int)"
   ]
  },
  {
   "cell_type": "code",
   "execution_count": 46,
   "metadata": {},
   "outputs": [
    {
     "data": {
      "text/plain": [
       "array([0, 0, 1, 1, 0, 0, 1, 0, 0, 1])"
      ]
     },
     "execution_count": 46,
     "metadata": {},
     "output_type": "execute_result"
    }
   ],
   "source": [
    "outp_out_sample"
   ]
  }
 ],
 "metadata": {
  "kernelspec": {
   "display_name": "Python 3",
   "language": "python",
   "name": "python3"
  },
  "language_info": {
   "codemirror_mode": {
    "name": "ipython",
    "version": 3
   },
   "file_extension": ".py",
   "mimetype": "text/x-python",
   "name": "python",
   "nbconvert_exporter": "python",
   "pygments_lexer": "ipython3",
   "version": "3.7.0"
  },
  "toc": {
   "base_numbering": 1,
   "nav_menu": {},
   "number_sections": true,
   "sideBar": true,
   "skip_h1_title": false,
   "title_cell": "Table of Contents",
   "title_sidebar": "Contents",
   "toc_cell": false,
   "toc_position": {},
   "toc_section_display": true,
   "toc_window_display": false
  }
 },
 "nbformat": 4,
 "nbformat_minor": 2
}
