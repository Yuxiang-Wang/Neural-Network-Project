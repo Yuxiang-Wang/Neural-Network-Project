{
 "cells": [
  {
   "cell_type": "code",
   "execution_count": 117,
   "metadata": {},
   "outputs": [],
   "source": [
    "import numpy as np\n",
    "import matplotlib.pyplot as plt"
   ]
  },
  {
   "cell_type": "markdown",
   "metadata": {},
   "source": [
    "### sample"
   ]
  },
  {
   "cell_type": "markdown",
   "metadata": {},
   "source": [
    "3 layers, number of units: 3, 3, 1"
   ]
  },
  {
   "cell_type": "code",
   "execution_count": 2,
   "metadata": {},
   "outputs": [],
   "source": [
    "L = 3\n",
    "S = np.array([3,3,1])\n",
    "K = 1"
   ]
  },
  {
   "cell_type": "code",
   "execution_count": 3,
   "metadata": {},
   "outputs": [],
   "source": [
    "def h(x):\n",
    "    return 1/(1+np.exp(-x))\n",
    "def J(hx,y):\n",
    "    return -(y*np.log(hx)+(1-y)*np.log(1-hx))\n",
    "    "
   ]
  },
  {
   "cell_type": "code",
   "execution_count": 4,
   "metadata": {},
   "outputs": [
    {
     "data": {
      "text/plain": [
       "(array([[ 1.3315865 ,  0.71527897, -1.54540029],\n",
       "        [-0.00838385,  0.62133597, -0.72008556],\n",
       "        [ 0.26551159,  0.10854853,  0.00429143],\n",
       "        [-0.17460021,  0.43302619,  1.20303737],\n",
       "        [-0.96506567,  1.02827408,  0.22863013],\n",
       "        [ 0.44513761, -1.13660221,  0.13513688],\n",
       "        [ 1.484537  , -1.07980489, -1.97772828],\n",
       "        [-1.7433723 ,  0.26607016,  2.38496733],\n",
       "        [ 1.12369125,  1.67262221,  0.09914922],\n",
       "        [ 1.39799638, -0.27124799,  0.61320418]]),\n",
       " array([1, 1, 1, 0, 0, 1, 1, 0, 1, 1]))"
      ]
     },
     "execution_count": 4,
     "metadata": {},
     "output_type": "execute_result"
    }
   ],
   "source": [
    "np.random.seed(10)\n",
    "inp = np.random.randn(30).reshape(10,3)\n",
    "np.random.seed(20)\n",
    "outp = (np.random.randn(10)>0).astype(int)\n",
    "inp,outp"
   ]
  },
  {
   "cell_type": "code",
   "execution_count": 5,
   "metadata": {},
   "outputs": [
    {
     "data": {
      "text/plain": [
       "(array([ 1.3315865 ,  0.71527897, -1.54540029]), 1)"
      ]
     },
     "execution_count": 5,
     "metadata": {},
     "output_type": "execute_result"
    }
   ],
   "source": [
    "x = inp[0]\n",
    "y = outp[0]\n",
    "x,y"
   ]
  },
  {
   "cell_type": "code",
   "execution_count": 6,
   "metadata": {},
   "outputs": [],
   "source": [
    "def add_bias(arr):\n",
    "    return np.hstack([[0.1],arr])"
   ]
  },
  {
   "cell_type": "code",
   "execution_count": 7,
   "metadata": {},
   "outputs": [],
   "source": [
    "# a2 = h(np.dot(theta1,np.hstack([[1],a1])))\n",
    "# a3 = h(np.dot(theta2,np.hstack([[1],a2]))); a3"
   ]
  },
  {
   "cell_type": "code",
   "execution_count": 8,
   "metadata": {},
   "outputs": [
    {
     "data": {
      "text/plain": [
       "array([3, 3, 1])"
      ]
     },
     "execution_count": 8,
     "metadata": {},
     "output_type": "execute_result"
    }
   ],
   "source": [
    "S"
   ]
  },
  {
   "cell_type": "code",
   "execution_count": 9,
   "metadata": {},
   "outputs": [
    {
     "data": {
      "text/plain": [
       "[array([[0.5488135 , 0.71518937, 0.60276338, 0.54488318],\n",
       "        [0.4236548 , 0.64589411, 0.43758721, 0.891773  ],\n",
       "        [0.96366276, 0.38344152, 0.79172504, 0.52889492]]),\n",
       " array([[4.17022005e-01, 7.20324493e-01, 1.14374817e-04, 3.02332573e-01]])]"
      ]
     },
     "execution_count": 9,
     "metadata": {},
     "output_type": "execute_result"
    }
   ],
   "source": [
    "theta=[]\n",
    "for i in range(L-1):\n",
    "    np.random.seed(i)\n",
    "    theta_temp = np.random.rand(S[i+1],S[i]+1) # plus 1 for bias\n",
    "    theta.append(theta_temp)\n",
    "theta"
   ]
  },
  {
   "cell_type": "code",
   "execution_count": 10,
   "metadata": {},
   "outputs": [
    {
     "data": {
      "text/plain": [
       "(None, [array([ 0.1       ,  1.3315865 ,  0.71527897, -1.54540029])])"
      ]
     },
     "execution_count": 10,
     "metadata": {},
     "output_type": "execute_result"
    }
   ],
   "source": [
    "a = []\n",
    "a.append(add_bias(x)),a"
   ]
  },
  {
   "cell_type": "code",
   "execution_count": 11,
   "metadata": {},
   "outputs": [
    {
     "data": {
      "text/plain": [
       "[array([ 0.1       ,  1.3315865 ,  0.71527897, -1.54540029]),\n",
       " array([0.1       , 0.64480917, 0.45940953, 0.588048  ]),\n",
       " array([0.66463369])]"
      ]
     },
     "execution_count": 11,
     "metadata": {},
     "output_type": "execute_result"
    }
   ],
   "source": [
    "a = []\n",
    "a.append(add_bias(x))\n",
    "for i in range(L-1):\n",
    "    a_temp = h(np.dot(theta[i],a[i]))\n",
    "    if i==L-2:\n",
    "        a.append(a_temp)\n",
    "    else:\n",
    "        a.append(add_bias(a_temp))\n",
    "a"
   ]
  },
  {
   "cell_type": "code",
   "execution_count": 12,
   "metadata": {},
   "outputs": [
    {
     "data": {
      "text/plain": [
       "[array([-1.25869618e-02, -5.53274391e-02, -9.52616792e-06, -2.45620022e-02]),\n",
       " array([-0.33536631])]"
      ]
     },
     "execution_count": 12,
     "metadata": {},
     "output_type": "execute_result"
    }
   ],
   "source": [
    "delta = []\n",
    "delta.append(a[-1]-y)\n",
    "for i in range(L-2):\n",
    "    delta.append(theta[-1-i].T.dot(delta[-1])*a[-2-i]*(1-a[-2-i]))\n",
    "delta.reverse()\n",
    "delta"
   ]
  },
  {
   "cell_type": "code",
   "execution_count": 13,
   "metadata": {},
   "outputs": [
    {
     "data": {
      "text/plain": [
       "array([0.09      , 0.22903031, 0.24835241, 0.24224755])"
      ]
     },
     "execution_count": 13,
     "metadata": {},
     "output_type": "execute_result"
    }
   ],
   "source": [
    "a[-2-i]*(1-a[-2-i])"
   ]
  },
  {
   "cell_type": "code",
   "execution_count": 14,
   "metadata": {},
   "outputs": [
    {
     "data": {
      "text/plain": [
       "[array([[-5.53274391e-03, -7.36732712e-02, -3.95745539e-02,\n",
       "          8.55030405e-02],\n",
       "        [-9.52616792e-07, -1.26849166e-05, -6.81386762e-06,\n",
       "          1.47217427e-05],\n",
       "        [-2.45620022e-03, -3.27064307e-02, -1.75686838e-02,\n",
       "          3.79581254e-02]]),\n",
       " array([[-0.03353663, -0.21624727, -0.15407048, -0.19721149]])]"
      ]
     },
     "execution_count": 14,
     "metadata": {},
     "output_type": "execute_result"
    }
   ],
   "source": [
    "D=[]\n",
    "for i in range(L-1):\n",
    "    if i==0:\n",
    "        D.append(np.matmul(delta[-1-i].reshape(len(delta[-1-i]),1), a[-2-i].reshape(1,len(a[-2-i]))))\n",
    "    else:\n",
    "        D.append(np.matmul(delta[-1-i].reshape(len(delta[-1-i]),1)[1:], a[-2-i].reshape(1,len(a[-2-i]))))\n",
    "D.reverse()\n",
    "D"
   ]
  },
  {
   "cell_type": "markdown",
   "metadata": {},
   "source": [
    "#### gradient check"
   ]
  },
  {
   "cell_type": "markdown",
   "metadata": {},
   "source": [
    "calculate derivative directly and compare with D,\n",
    "check whether the derivative result is right."
   ]
  },
  {
   "cell_type": "code",
   "execution_count": 15,
   "metadata": {},
   "outputs": [
    {
     "data": {
      "text/plain": [
       "[array([[0.5488135 , 0.71518937, 0.60276338, 0.54488318],\n",
       "        [0.4236548 , 0.64589411, 0.43758721, 0.891773  ],\n",
       "        [0.96366276, 0.38344152, 0.79172504, 0.52889492]]),\n",
       " array([[4.17022005e-01, 7.20324493e-01, 1.14374817e-04, 3.02332573e-01]])]"
      ]
     },
     "execution_count": 15,
     "metadata": {},
     "output_type": "execute_result"
    }
   ],
   "source": [
    "theta"
   ]
  },
  {
   "cell_type": "code",
   "execution_count": 16,
   "metadata": {},
   "outputs": [
    {
     "data": {
      "text/plain": [
       "array([ 0.1       ,  1.3315865 ,  0.71527897, -1.54540029])"
      ]
     },
     "execution_count": 16,
     "metadata": {},
     "output_type": "execute_result"
    }
   ],
   "source": [
    "a1=a[0]; a1"
   ]
  },
  {
   "cell_type": "code",
   "execution_count": 17,
   "metadata": {},
   "outputs": [],
   "source": [
    "def temp(theta_plus,theta_minus):\n",
    "    a2_plus = h(np.dot(theta_plus,a1))\n",
    "    a3_plus = h(np.dot(theta_minus,add_bias(a2_plus)))\n",
    "    return a3_plus"
   ]
  },
  {
   "cell_type": "code",
   "execution_count": 18,
   "metadata": {},
   "outputs": [],
   "source": [
    "theta_temp = np.vstack([theta[0],theta[1]]).flatten()\n",
    "l=[]\n",
    "for i in range(16):\n",
    "    theta_plus = theta_temp.copy()\n",
    "    theta_plus[i] += 0.001\n",
    "    theta_minus = theta_temp.copy()\n",
    "    theta_minus[i] -= 0.001\n",
    "    theta_plus = theta_plus.reshape(4,4)\n",
    "    theta_minus = theta_minus.reshape(4,4)\n",
    "    a3_plus = temp(theta_plus[:3],theta_plus[-1])\n",
    "    a3_minus = temp(theta_minus[:3],theta_minus[-1])\n",
    "    l.append((J(a3_plus,y)-J(a3_minus,y))/0.002)"
   ]
  },
  {
   "cell_type": "code",
   "execution_count": 19,
   "metadata": {},
   "outputs": [
    {
     "data": {
      "text/plain": [
       "array([[-5.53274391e-03, -7.36732653e-02, -3.95745530e-02,\n",
       "         8.55030313e-02],\n",
       "       [-9.52616874e-07, -1.26849149e-05, -6.81386736e-06,\n",
       "         1.47217398e-05],\n",
       "       [-2.45620022e-03, -3.27064266e-02, -1.75686831e-02,\n",
       "         3.79581190e-02],\n",
       "       [-3.35366311e-02, -2.16247274e-01, -1.54070481e-01,\n",
       "        -1.97211491e-01]])"
      ]
     },
     "execution_count": 19,
     "metadata": {},
     "output_type": "execute_result"
    }
   ],
   "source": [
    "np.array(l).reshape(4,4)"
   ]
  },
  {
   "cell_type": "code",
   "execution_count": null,
   "metadata": {},
   "outputs": [],
   "source": []
  },
  {
   "cell_type": "markdown",
   "metadata": {},
   "source": [
    "### NW"
   ]
  },
  {
   "cell_type": "code",
   "execution_count": 20,
   "metadata": {},
   "outputs": [],
   "source": [
    "L = 3\n",
    "S = np.array([3,3,1])\n",
    "K = 1"
   ]
  },
  {
   "cell_type": "code",
   "execution_count": 47,
   "metadata": {},
   "outputs": [],
   "source": [
    "def h(x):\n",
    "    '''sigmoid function'''\n",
    "    return 1/(1+np.exp(-x))\n",
    "def add_bias(arr):\n",
    "    '''add constant bias, for each layer except the outcome layer'''\n",
    "    return np.hstack([[0.1],arr])\n",
    "\n",
    "def forward(x,theta):\n",
    "    '''forward propagation to calculate values of each layer.\n",
    "    the last element in a is the outcome layer'''\n",
    "    a = []\n",
    "    a.append(add_bias(x))\n",
    "    for i in range(L-1):\n",
    "        a_temp = h(np.dot(theta[i],a[i]))\n",
    "        if i==L-2:\n",
    "            a.append(a_temp)\n",
    "        else:\n",
    "            a.append(add_bias(a_temp))\n",
    "    return a\n",
    "\n",
    "def backward(a,y):\n",
    "    '''backward propagation to calculate derivative of cost funtion. \n",
    "    derivative is for gradient descent to optimize model wights, i.e. theta'''\n",
    "    delta = []\n",
    "    delta.append(a[-1]-y)\n",
    "    for i in range(L-2):\n",
    "        delta.append(theta[-1-i].T.dot(delta[-1])*a[-2-i]*(1-a[-2-i]))\n",
    "    delta.reverse()\n",
    "    '''delta is a temp value for calculating derivative'''\n",
    "    \n",
    "    D=[]\n",
    "    for i in range(L-1):\n",
    "        if i==0:\n",
    "            D.append(np.matmul(delta[-1-i].reshape(len(delta[-1-i]),1), a[-2-i].reshape(1,len(a[-2-i]))))\n",
    "        else:\n",
    "            D.append(np.matmul(delta[-1-i].reshape(len(delta[-1-i]),1)[1:], a[-2-i].reshape(1,len(a[-2-i]))))\n",
    "    D.reverse()\n",
    "    return D\n",
    "\n",
    "def update(D):\n",
    "    '''gradient descent to update theta.\n",
    "    currently constant learning rate'''\n",
    "    global theta\n",
    "    for i in range(len(D)):\n",
    "        theta[i]-=0.1*D[i] # 0.01 is the learning rate\n",
    "    "
   ]
  },
  {
   "cell_type": "markdown",
   "metadata": {},
   "source": [
    "in sample training"
   ]
  },
  {
   "cell_type": "code",
   "execution_count": 48,
   "metadata": {},
   "outputs": [
    {
     "data": {
      "text/plain": [
       "(array([[1, 1, 1],\n",
       "        [0, 0, 0],\n",
       "        [1, 0, 0],\n",
       "        [0, 1, 0],\n",
       "        [1, 0, 1],\n",
       "        [1, 1, 0],\n",
       "        [0, 1, 1],\n",
       "        [0, 1, 0],\n",
       "        [1, 0, 1],\n",
       "        [0, 0, 1]]), array([0, 1, 1, 1, 0, 0, 0, 1, 0, 1]))"
      ]
     },
     "execution_count": 48,
     "metadata": {},
     "output_type": "execute_result"
    }
   ],
   "source": [
    "'''in sample input and out put'''\n",
    "# np.random.seed(10)\n",
    "# inp = np.random.randn(30).reshape(10,3)\n",
    "# np.random.seed(20)\n",
    "# outp = (np.random.randn(10)>0).astype(int)\n",
    "\n",
    "inp = (np.random.randn(30).reshape(10,3)>0).astype(int)\n",
    "outp = (inp.sum(axis=1)<2).astype(int)\n",
    "inp,outp"
   ]
  },
  {
   "cell_type": "code",
   "execution_count": 49,
   "metadata": {},
   "outputs": [
    {
     "data": {
      "text/plain": [
       "[array([[0.5488135 , 0.71518937, 0.60276338, 0.54488318],\n",
       "        [0.4236548 , 0.64589411, 0.43758721, 0.891773  ],\n",
       "        [0.96366276, 0.38344152, 0.79172504, 0.52889492]]),\n",
       " array([[4.17022005e-01, 7.20324493e-01, 1.14374817e-04, 3.02332573e-01]])]"
      ]
     },
     "execution_count": 49,
     "metadata": {},
     "output_type": "execute_result"
    }
   ],
   "source": [
    "'''randomly initalize theta'''\n",
    "theta=[]\n",
    "for i in range(L-1):\n",
    "    np.random.seed(i)\n",
    "    theta_temp = np.random.rand(S[i+1],S[i]+1) # plus 1 for bias\n",
    "    theta.append(theta_temp)\n",
    "theta"
   ]
  },
  {
   "cell_type": "code",
   "execution_count": 50,
   "metadata": {},
   "outputs": [],
   "source": [
    "ite = 0\n",
    "MAX_ITER = 150000\n",
    "while(ite<MAX_ITER):\n",
    "    '''calculate derivative of cost funtion'''\n",
    "    D_all = list(map(lambda x:0*x,theta))\n",
    "    for i in range(len(inp)):\n",
    "        x = inp[i]\n",
    "        y = outp[i]\n",
    "        a = forward(x,theta)\n",
    "        D = backward(a,y)\n",
    "        for i in range(len(D_all)):\n",
    "            D_all[i]+=D[i]\n",
    "\n",
    "    '''break out when all the derivatives are smaller than 0.001'''\n",
    "    max_temp = max(list(map(np.max,map(abs,D_all))))\n",
    "    if max_temp<0.001:\n",
    "        break\n",
    "    \n",
    "    update(D_all)\n",
    "    ite+=1"
   ]
  },
  {
   "cell_type": "code",
   "execution_count": 51,
   "metadata": {},
   "outputs": [
    {
     "data": {
      "text/plain": [
       "21194"
      ]
     },
     "execution_count": 51,
     "metadata": {},
     "output_type": "execute_result"
    }
   ],
   "source": [
    "ite"
   ]
  },
  {
   "cell_type": "code",
   "execution_count": 52,
   "metadata": {},
   "outputs": [
    {
     "data": {
      "text/plain": [
       "[array([[13.32307833, -1.65842867, -1.63999052, -1.4742822 ],\n",
       "        [-5.69800024,  0.87287011,  1.13439865,  2.11857353],\n",
       "        [ 8.83641272, -1.74614837, -1.36187605, -1.12989652]]),\n",
       " array([[  1.3961261 ,  22.69634365, -13.98647382,  17.37254937]])]"
      ]
     },
     "execution_count": 52,
     "metadata": {},
     "output_type": "execute_result"
    }
   ],
   "source": [
    "# final theta\n",
    "theta"
   ]
  },
  {
   "cell_type": "code",
   "execution_count": 53,
   "metadata": {},
   "outputs": [
    {
     "data": {
      "text/plain": [
       "[array([[-0.00064686,  0.        ,  0.        , -0.00646855],\n",
       "        [ 0.00023164,  0.        ,  0.        ,  0.0023164 ],\n",
       "        [-0.00049016,  0.        ,  0.        , -0.00490156]]),\n",
       " array([[-0.00011458, -0.00053229, -0.00094496, -0.0005027 ]])]"
      ]
     },
     "execution_count": 53,
     "metadata": {},
     "output_type": "execute_result"
    }
   ],
   "source": [
    "# final derivative\n",
    "D"
   ]
  },
  {
   "cell_type": "code",
   "execution_count": 54,
   "metadata": {},
   "outputs": [],
   "source": [
    "fit = np.zeros(len(inp))\n",
    "for i in range(len(inp)):\n",
    "    x = inp[i]\n",
    "    a = forward(x,theta)\n",
    "    fit[i]=a[-1]"
   ]
  },
  {
   "cell_type": "code",
   "execution_count": 55,
   "metadata": {},
   "outputs": [
    {
     "data": {
      "text/plain": [
       "array([0, 1, 1, 1, 0, 0, 0, 1, 0, 1])"
      ]
     },
     "execution_count": 55,
     "metadata": {},
     "output_type": "execute_result"
    }
   ],
   "source": [
    "(fit>0.5).astype(int)"
   ]
  },
  {
   "cell_type": "code",
   "execution_count": 56,
   "metadata": {},
   "outputs": [
    {
     "data": {
      "text/plain": [
       "array([0, 1, 1, 1, 0, 0, 0, 1, 0, 1])"
      ]
     },
     "execution_count": 56,
     "metadata": {},
     "output_type": "execute_result"
    }
   ],
   "source": [
    "outp"
   ]
  },
  {
   "cell_type": "markdown",
   "metadata": {},
   "source": [
    "out of sample"
   ]
  },
  {
   "cell_type": "code",
   "execution_count": 63,
   "metadata": {},
   "outputs": [],
   "source": [
    "inp_out_sample = (np.random.randn(3000).reshape(1000,3)>0).astype(int)\n",
    "outp_out_sample = (inp_out_sample.sum(axis=1)<2).astype(int)\n",
    "fit_pred = np.zeros(len(inp_out_sample))\n",
    "for i in range(len(inp_out_sample)):\n",
    "    x = inp_out_sample[i]\n",
    "    a = forward(x,theta)\n",
    "    fit_pred[i]=a[-1]"
   ]
  },
  {
   "cell_type": "code",
   "execution_count": 65,
   "metadata": {},
   "outputs": [],
   "source": [
    "pred = (fit_pred>0.5).astype(int)"
   ]
  },
  {
   "cell_type": "code",
   "execution_count": 68,
   "metadata": {},
   "outputs": [
    {
     "data": {
      "text/plain": [
       "1000"
      ]
     },
     "execution_count": 68,
     "metadata": {},
     "output_type": "execute_result"
    }
   ],
   "source": [
    "(pred == outp_out_sample).sum()"
   ]
  },
  {
   "cell_type": "markdown",
   "metadata": {},
   "source": [
    "### NW, with regularization"
   ]
  },
  {
   "cell_type": "code",
   "execution_count": 20,
   "metadata": {},
   "outputs": [],
   "source": [
    "L = 3\n",
    "S = np.array([3,3,1])\n",
    "K = 1"
   ]
  },
  {
   "cell_type": "code",
   "execution_count": 80,
   "metadata": {},
   "outputs": [],
   "source": [
    "def h(x):\n",
    "    '''sigmoid function'''\n",
    "    return 1/(1+np.exp(-x))\n",
    "def add_bias(arr):\n",
    "    '''add constant bias, for each layer except the outcome layer'''\n",
    "    return np.hstack([[0.1],arr])\n",
    "\n",
    "def forward(x,theta):\n",
    "    '''forward propagation to calculate values of each layer.\n",
    "    the last element in a is the outcome layer'''\n",
    "    a = []\n",
    "    a.append(add_bias(x))\n",
    "    for i in range(L-1):\n",
    "        a_temp = h(np.dot(theta[i],a[i]))\n",
    "        if i==L-2:\n",
    "            a.append(a_temp)\n",
    "        else:\n",
    "            a.append(add_bias(a_temp))\n",
    "    return a\n",
    "\n",
    "def backward(a,y,lam):\n",
    "    '''backward propagation to calculate derivative of cost funtion. \n",
    "    derivative is for gradient descent to optimize model wights, i.e. theta'''\n",
    "    delta = []\n",
    "    delta.append(a[-1]-y)\n",
    "    for i in range(L-2):\n",
    "        delta.append(theta[-1-i].T.dot(delta[-1])*a[-2-i]*(1-a[-2-i]))\n",
    "    delta.reverse()\n",
    "    '''delta is a temp value for calculating derivative'''\n",
    "    \n",
    "    D=[]\n",
    "    for i in range(L-1):\n",
    "        if i==0:\n",
    "            D.append(np.matmul(delta[-1-i].reshape(len(delta[-1-i]),1), a[-2-i].reshape(1,len(a[-2-i]))))\n",
    "        else:\n",
    "            D.append(np.matmul(delta[-1-i].reshape(len(delta[-1-i]),1)[1:], a[-2-i].reshape(1,len(a[-2-i]))))\n",
    "    D.reverse()\n",
    "    \n",
    "    '''regularization term'''\n",
    "    for i in range(len(theta)):\n",
    "        theta_temp = theta[i].copy()*lam\n",
    "        theta_temp[:,0]=0\n",
    "        D[i]+=theta_temp\n",
    "    \n",
    "    return D\n",
    "\n",
    "def update(D):\n",
    "    '''gradient descent to update theta.\n",
    "    currently constant learning rate'''\n",
    "    global theta\n",
    "    for i in range(len(D)):\n",
    "        theta[i]-=0.1*D[i] # 0.01 is the learning rate\n",
    "    "
   ]
  },
  {
   "cell_type": "markdown",
   "metadata": {},
   "source": [
    "in sample training"
   ]
  },
  {
   "cell_type": "code",
   "execution_count": 81,
   "metadata": {},
   "outputs": [
    {
     "data": {
      "text/plain": [
       "(array([[1, 0, 1],\n",
       "        [1, 0, 0],\n",
       "        [0, 1, 0],\n",
       "        [1, 0, 1],\n",
       "        [1, 0, 0],\n",
       "        [0, 0, 0],\n",
       "        [1, 1, 0],\n",
       "        [0, 0, 1],\n",
       "        [1, 1, 1],\n",
       "        [0, 1, 0]]), array([0, 1, 1, 0, 1, 1, 0, 1, 0, 1]))"
      ]
     },
     "execution_count": 81,
     "metadata": {},
     "output_type": "execute_result"
    }
   ],
   "source": [
    "'''in sample input and out put'''\n",
    "# np.random.seed(10)\n",
    "# inp = np.random.randn(30).reshape(10,3)\n",
    "# np.random.seed(20)\n",
    "# outp = (np.random.randn(10)>0).astype(int)\n",
    "\n",
    "inp = (np.random.randn(30).reshape(10,3)>0).astype(int)\n",
    "outp = (inp.sum(axis=1)<2).astype(int)\n",
    "inp,outp"
   ]
  },
  {
   "cell_type": "code",
   "execution_count": 82,
   "metadata": {},
   "outputs": [
    {
     "data": {
      "text/plain": [
       "[array([[0.5488135 , 0.71518937, 0.60276338, 0.54488318],\n",
       "        [0.4236548 , 0.64589411, 0.43758721, 0.891773  ],\n",
       "        [0.96366276, 0.38344152, 0.79172504, 0.52889492]]),\n",
       " array([[4.17022005e-01, 7.20324493e-01, 1.14374817e-04, 3.02332573e-01]])]"
      ]
     },
     "execution_count": 82,
     "metadata": {},
     "output_type": "execute_result"
    }
   ],
   "source": [
    "'''randomly initalize theta'''\n",
    "theta=[]\n",
    "for i in range(L-1):\n",
    "    np.random.seed(i)\n",
    "    theta_temp = np.random.rand(S[i+1],S[i]+1) # plus 1 for bias\n",
    "    theta.append(theta_temp)\n",
    "theta"
   ]
  },
  {
   "cell_type": "code",
   "execution_count": 104,
   "metadata": {},
   "outputs": [],
   "source": [
    "ite = 0\n",
    "MAX_ITER = 150000\n",
    "while(ite<MAX_ITER):\n",
    "    '''calculate derivative of cost funtion'''\n",
    "    D_all = list(map(lambda x:0*x,theta))\n",
    "    for i in range(len(inp)):\n",
    "        x = inp[i]\n",
    "        y = outp[i]\n",
    "        a = forward(x,theta)\n",
    "        D = backward(a,y,0.0)\n",
    "        for i in range(len(D_all)):\n",
    "            D_all[i]+=D[i]\n",
    "\n",
    "    '''break out when all the derivatives are smaller than 0.001'''\n",
    "    max_temp = max(list(map(np.max,map(abs,D_all))))\n",
    "    if max_temp<0.001:\n",
    "        break\n",
    "    \n",
    "    update(D_all)\n",
    "    ite+=1"
   ]
  },
  {
   "cell_type": "code",
   "execution_count": 105,
   "metadata": {},
   "outputs": [
    {
     "data": {
      "text/plain": [
       "15375"
      ]
     },
     "execution_count": 105,
     "metadata": {},
     "output_type": "execute_result"
    }
   ],
   "source": [
    "ite"
   ]
  },
  {
   "cell_type": "code",
   "execution_count": 106,
   "metadata": {},
   "outputs": [
    {
     "data": {
      "text/plain": [
       "[array([[ 23.40828646,  -2.08305192,  -1.98421757,  -2.09105432],\n",
       "        [ 23.37488247,  -2.08136745,  -1.98221121,  -2.08915357],\n",
       "        [-26.2350643 ,   2.23466327,   2.14856778,   2.24780506]]),\n",
       " array([[ -8.1484553 ,  11.45318242,  11.44205017, -11.27582841]])]"
      ]
     },
     "execution_count": 106,
     "metadata": {},
     "output_type": "execute_result"
    }
   ],
   "source": [
    "# final theta\n",
    "theta"
   ]
  },
  {
   "cell_type": "code",
   "execution_count": 107,
   "metadata": {},
   "outputs": [
    {
     "data": {
      "text/plain": [
       "[array([[-6.72110697e-05,  0.00000000e+00, -6.72110697e-04,\n",
       "          0.00000000e+00],\n",
       "        [-6.71615195e-05,  0.00000000e+00, -6.71615195e-04,\n",
       "          0.00000000e+00],\n",
       "        [ 6.45853748e-05,  0.00000000e+00,  6.45853748e-04,\n",
       "          0.00000000e+00]]),\n",
       " array([[-2.42275522e-05, -1.42511265e-04, -1.42432970e-04,\n",
       "         -9.29000643e-05]])]"
      ]
     },
     "execution_count": 107,
     "metadata": {},
     "output_type": "execute_result"
    }
   ],
   "source": [
    "# final derivative\n",
    "D"
   ]
  },
  {
   "cell_type": "code",
   "execution_count": 108,
   "metadata": {},
   "outputs": [],
   "source": [
    "fit = np.zeros(len(inp))\n",
    "for i in range(len(inp)):\n",
    "    x = inp[i]\n",
    "    a = forward(x,theta)\n",
    "    fit[i]=a[-1]"
   ]
  },
  {
   "cell_type": "code",
   "execution_count": 109,
   "metadata": {},
   "outputs": [
    {
     "data": {
      "text/plain": [
       "array([0, 1, 1, 0, 1, 1, 0, 1, 0, 1])"
      ]
     },
     "execution_count": 109,
     "metadata": {},
     "output_type": "execute_result"
    }
   ],
   "source": [
    "(fit>0.5).astype(int)"
   ]
  },
  {
   "cell_type": "code",
   "execution_count": 110,
   "metadata": {},
   "outputs": [
    {
     "data": {
      "text/plain": [
       "array([0, 1, 1, 0, 1, 1, 0, 1, 0, 1])"
      ]
     },
     "execution_count": 110,
     "metadata": {},
     "output_type": "execute_result"
    }
   ],
   "source": [
    "outp"
   ]
  },
  {
   "cell_type": "markdown",
   "metadata": {},
   "source": [
    "out of sample"
   ]
  },
  {
   "cell_type": "code",
   "execution_count": 112,
   "metadata": {},
   "outputs": [],
   "source": [
    "inp_out_sample = (np.random.randn(3000).reshape(1000,3)>0).astype(int)\n",
    "outp_out_sample = (inp_out_sample.sum(axis=1)<2).astype(int)\n",
    "fit_pred = np.zeros(len(inp_out_sample))\n",
    "for i in range(len(inp_out_sample)):\n",
    "    x = inp_out_sample[i]\n",
    "    a = forward(x,theta)\n",
    "    fit_pred[i]=a[-1]"
   ]
  },
  {
   "cell_type": "code",
   "execution_count": 113,
   "metadata": {},
   "outputs": [],
   "source": [
    "pred = (fit_pred>0.5).astype(int)"
   ]
  },
  {
   "cell_type": "code",
   "execution_count": 114,
   "metadata": {},
   "outputs": [
    {
     "data": {
      "text/plain": [
       "1000"
      ]
     },
     "execution_count": 114,
     "metadata": {},
     "output_type": "execute_result"
    }
   ],
   "source": [
    "(pred == outp_out_sample).sum()"
   ]
  },
  {
   "cell_type": "code",
   "execution_count": 119,
   "metadata": {},
   "outputs": [
    {
     "data": {
      "text/plain": [
       "(array([514.,   0.,   0.,   0.,   0.,   0.,   0.,   0.,   0.,   0.,   0.,\n",
       "          0.,   0.,   0.,   0.,   0.,   0.,   0.,   0.,   0.,   0.,   0.,\n",
       "          0.,   0.,   0.,   0.,   0.,   0.,   0.,   0.,   0.,   0.,   0.,\n",
       "          0.,   0.,   0.,   0.,   0.,   0., 486.]),\n",
       " array([1.12364005e-05, 2.50109554e-02, 5.00106744e-02, 7.50103934e-02,\n",
       "        1.00010112e-01, 1.25009831e-01, 1.50009550e-01, 1.75009269e-01,\n",
       "        2.00008988e-01, 2.25008707e-01, 2.50008426e-01, 2.75008145e-01,\n",
       "        3.00007864e-01, 3.25007583e-01, 3.50007302e-01, 3.75007021e-01,\n",
       "        4.00006740e-01, 4.25006459e-01, 4.50006178e-01, 4.75005897e-01,\n",
       "        5.00005616e-01, 5.25005335e-01, 5.50005054e-01, 5.75004773e-01,\n",
       "        6.00004492e-01, 6.25004211e-01, 6.50003930e-01, 6.75003649e-01,\n",
       "        7.00003368e-01, 7.25003087e-01, 7.50002806e-01, 7.75002525e-01,\n",
       "        8.00002244e-01, 8.25001963e-01, 8.50001682e-01, 8.75001401e-01,\n",
       "        9.00001120e-01, 9.25000839e-01, 9.50000558e-01, 9.75000277e-01,\n",
       "        9.99999996e-01]),\n",
       " <a list of 40 Patch objects>)"
      ]
     },
     "execution_count": 119,
     "metadata": {},
     "output_type": "execute_result"
    },
    {
     "data": {
      "image/png": "[encoded data removed]",
      "text/plain": [
       "<Figure size 432x288 with 1 Axes>"
      ]
     },
     "metadata": {
      "needs_background": "light"
     },
     "output_type": "display_data"
    }
   ],
   "source": [
    "plt.hist(fit_pred,bins=40)"
   ]
  }
 ],
 "metadata": {
  "kernelspec": {
   "display_name": "Python 3",
   "language": "python",
   "name": "python3"
  },
  "language_info": {
   "codemirror_mode": {
    "name": "ipython",
    "version": 3
   },
   "file_extension": ".py",
   "mimetype": "text/x-python",
   "name": "python",
   "nbconvert_exporter": "python",
   "pygments_lexer": "ipython3",
   "version": "3.7.0"
  },
  "toc": {
   "base_numbering": 1,
   "nav_menu": {},
   "number_sections": true,
   "sideBar": true,
   "skip_h1_title": false,
   "title_cell": "Table of Contents",
   "title_sidebar": "Contents",
   "toc_cell": false,
   "toc_position": {},
   "toc_section_display": true,
   "toc_window_display": false
  }
 },
 "nbformat": 4,
 "nbformat_minor": 2
}
